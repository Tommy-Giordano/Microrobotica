{
 "cells": [
  {
   "cell_type": "code",
   "execution_count": 1,
   "id": "afa1bd00-d7bd-4e90-9f32-1100e4897b13",
   "metadata": {},
   "outputs": [],
   "source": [
    "import random"
   ]
  },
  {
   "cell_type": "code",
   "execution_count": 4,
   "id": "7b835b61-c1b4-43d5-a7d6-6009a7206694",
   "metadata": {},
   "outputs": [],
   "source": [
    "file_txt = open(\"./commedia.txt\", \"r\")\n",
    "\n",
    "testo = file_txt.read()\n",
    "frequenzaCaratteri = {}\n",
    "successiviCaratteri = {}\n",
    "\n",
    "def trovaFrequenzaCaratteri():\n",
    "    for carattere in testo:\n",
    "        if carattere in frequenzaCaratteri:\n",
    "            frequenzaCaratteri[carattere] += 1\n",
    "        else:\n",
    "            frequenzaCaratteri[carattere] = 1\n",
    "\n",
    "    print(frequenzaCaratteri)\n",
    "    \n",
    "def trovaSuccessiviCaratteri():\n",
    "    for carattere in testo:\n",
    "        if carattere not in successiviCaratteri:\n",
    "            successiviCaratteri[carattere] = \"\"\n",
    "    \n",
    "    scorsoCarattere = \"\"\n",
    "    firstChar = True\n",
    "    for carattere in testo:\n",
    "        if firstChar == True:\n",
    "            scorsoCarattere = carattere\n",
    "            firstChar = False\n",
    "        else:\n",
    "            successiviCaratteri[scorsoCarattere] += carattere\n",
    "            scorsoCarattere = carattere\n",
    "            \n",
    "    for valori in successiviCaratteri:\n",
    "        caratteriFinali = \"\"\n",
    "        for carattere in successiviCaratteri[valori]:\n",
    "            if carattere not in caratteriFinali:\n",
    "                caratteriFinali += carattere\n",
    "        successiviCaratteri[valori] = caratteriFinali\n",
    "            \n",
    "            \n",
    "    return successiviCaratteri\n",
    "\n",
    "file_txt.close()"
   ]
  },
  {
   "cell_type": "code",
   "execution_count": 6,
   "id": "a1e6d46e-dd92-41f5-961b-8de87bee3834",
   "metadata": {},
   "outputs": [
    {
     "name": "stdin",
     "output_type": "stream",
     "text": [
      "inserisci una lettera f\n",
      "dimmi quando fermarmi 120\n"
     ]
    },
    {
     "name": "stdout",
     "output_type": "stream",
     "text": [
      "ffe! Ba. upeh, Scriduppprqut srr,\n",
      "\n",
      "t dodavr?\"ph\": MÃ«agrsgonvvÃ¶ifrzz'v'Apha\"o;\n",
      "In! nio\n",
      "qu...\n",
      "o!\n",
      "vigoplezzuaÃ¶ive\n",
      "On: vvv\n"
     ]
    }
   ],
   "source": [
    "listaLettere = trovaSuccessiviCaratteri()\n",
    "lettera = input(\"inserisci una lettera\")\n",
    "numero = int(input(\"dimmi quando fermarmi\"))\n",
    "parola = lettera\n",
    "\n",
    "for i in range(numero):\n",
    "    theChosenOne = random.choice(listaLettere[lettera])\n",
    "    parola += theChosenOne\n",
    "    lettera = theChosenOne\n",
    "    \n",
    "print(parola)"
   ]
  },
  {
   "cell_type": "code",
   "execution_count": null,
   "id": "7d72a792-26b9-425a-bc2e-4e4da609c0f8",
   "metadata": {},
   "outputs": [],
   "source": []
  }
 ],
 "metadata": {
  "kernelspec": {
   "display_name": "Python [conda env:base] *",
   "language": "python",
   "name": "conda-base-py"
  },
  "language_info": {
   "codemirror_mode": {
    "name": "ipython",
    "version": 3
   },
   "file_extension": ".py",
   "mimetype": "text/x-python",
   "name": "python",
   "nbconvert_exporter": "python",
   "pygments_lexer": "ipython3",
   "version": "3.13.5"
  }
 },
 "nbformat": 4,
 "nbformat_minor": 5
}
