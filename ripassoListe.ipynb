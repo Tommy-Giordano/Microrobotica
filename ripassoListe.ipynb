{
 "cells": [
  {
   "cell_type": "code",
   "execution_count": 2,
   "id": "0c7d9f75-8562-4858-bbee-6de61f592ac2",
   "metadata": {},
   "outputs": [],
   "source": [
    "import random"
   ]
  },
  {
   "cell_type": "code",
   "execution_count": 3,
   "id": "945ecdec-44fc-4a81-8b81-307717af4cc6",
   "metadata": {},
   "outputs": [
    {
     "name": "stdout",
     "output_type": "stream",
     "text": [
      "1 a\n",
      "2 b\n",
      "3 c\n",
      "4 e\n"
     ]
    }
   ],
   "source": [
    "l1, l2 = [1,2,3,4], [\"a\",\"b\",\"c\",\"e\"]\n",
    "\n",
    "for v1, v2 in zip(l1, l2):\n",
    "    print(v1, v2)"
   ]
  },
  {
   "cell_type": "code",
   "execution_count": 10,
   "id": "16d53e7b-2bb6-47b2-bedd-36959703f82d",
   "metadata": {},
   "outputs": [
    {
     "name": "stdout",
     "output_type": "stream",
     "text": [
      "{0: 'idbpdoiipsioybskbypo', 1: 'bsiiyidsiypbiyiisipi', 2: 'yipdpiiibopibbdipbii', 3: 'kiisobbyspiiksippisy', 4: 'bybpsioyboiiyopibobp'}\n"
     ]
    }
   ],
   "source": [
    "lettere = \"skibidiboppy\"\n",
    "d = {i:\"\".join(random.choices(lettere, k = 20)) for i in range(5)}\n",
    "print(d)"
   ]
  },
  {
   "cell_type": "code",
   "execution_count": 11,
   "id": "f506b36b-0aac-49ea-86f8-7ff985301a1d",
   "metadata": {},
   "outputs": [
    {
     "data": {
      "text/plain": [
       "True"
      ]
     },
     "execution_count": 11,
     "metadata": {},
     "output_type": "execute_result"
    }
   ],
   "source": [
    "# def findChar(text, char):\n",
    "#     return char in text\n",
    "\n",
    "findChar = lambda text, char: char in text\n",
    "\n",
    "findChar(\"ciao\",\"o\")"
   ]
  },
  {
   "cell_type": "code",
   "execution_count": 13,
   "id": "86ab6da7-dc07-4bf4-9f4a-596f62b321fe",
   "metadata": {},
   "outputs": [
    {
     "name": "stdout",
     "output_type": "stream",
     "text": [
      "{0: True, 1: False, 2: True, 3: True, 4: True}\n"
     ]
    }
   ],
   "source": [
    "d_a = {i:findChar(d[i], \"o\") for i in d}\n",
    "print(d_a)"
   ]
  },
  {
   "cell_type": "markdown",
   "id": "fc1a90ee-035e-45da-b980-04cc9a63a54c",
   "metadata": {},
   "source": [
    "# in python tutto è oggetto"
   ]
  },
  {
   "cell_type": "code",
   "execution_count": 14,
   "id": "5c90002a-6764-4718-b3c6-b551f28b9d32",
   "metadata": {},
   "outputs": [],
   "source": [
    "somma = lambda a, b : a+b\n",
    "prodotto = lambda a, b : a*b\n",
    "operazioni = {\"+\" : somma, \"*\" : prodotto}"
   ]
  },
  {
   "cell_type": "code",
   "execution_count": 15,
   "id": "1bca9a4f-0dd1-4029-88a7-6e8784a597bf",
   "metadata": {},
   "outputs": [
    {
     "name": "stdin",
     "output_type": "stream",
     "text": [
      "inserisci l'operazione +\n",
      "primo numero 2\n",
      "secondo numero 3\n"
     ]
    },
    {
     "name": "stdout",
     "output_type": "stream",
     "text": [
      "5.0\n"
     ]
    }
   ],
   "source": [
    "op = input(\"inserisci l'operazione\")\n",
    "a = float(input(\"primo numero\"))\n",
    "b = float(input(\"secondo numero\"))\n",
    "\n",
    "if op in operazioni:\n",
    "    print(operazioni[op](a,b))\n",
    "else:\n",
    "    print(\"acc sbagliato l'operazione\")"
   ]
  },
  {
   "cell_type": "code",
   "execution_count": 16,
   "id": "fd559dd1-b345-409c-9770-94944f4f8d49",
   "metadata": {},
   "outputs": [
    {
     "data": {
      "text/plain": [
       "[0, 3, 6, 9]"
      ]
     },
     "execution_count": 16,
     "metadata": {},
     "output_type": "execute_result"
    }
   ],
   "source": [
    "l = list(range(10))\n",
    "l[::3]"
   ]
  },
  {
   "cell_type": "code",
   "execution_count": null,
   "id": "8c3e6223-5a0c-442e-828f-3ac51a63bff6",
   "metadata": {},
   "outputs": [],
   "source": []
  }
 ],
 "metadata": {
  "kernelspec": {
   "display_name": "Python [conda env:base] *",
   "language": "python",
   "name": "conda-base-py"
  },
  "language_info": {
   "codemirror_mode": {
    "name": "ipython",
    "version": 3
   },
   "file_extension": ".py",
   "mimetype": "text/x-python",
   "name": "python",
   "nbconvert_exporter": "python",
   "pygments_lexer": "ipython3",
   "version": "3.13.5"
  }
 },
 "nbformat": 4,
 "nbformat_minor": 5
}
