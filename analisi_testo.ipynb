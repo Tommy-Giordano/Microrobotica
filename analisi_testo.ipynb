{
 "cells": [
  {
   "cell_type": "markdown",
   "id": "c3a5e518-023c-4b3e-9858-f77b404f74c3",
   "metadata": {},
   "source": [
    "# Un modello matematico del testo in linguaggio naturale\n",
    "\n",
    "questo modello ci aiuterà a capire come funzionano i **LLM** (large lenguage model).\n",
    "* i llm sono le reti neurali a base dell'ia generativa.\n",
    "* i LLM generano il testo mediante un processo detto **autoregressione**: quando forniamo un prompt all'ia generativa , il LLM genera la risposta **token** per **token**\n",
    "\n",
    "## Token\n",
    "* un **TOKEN** è in media uguale a 0,75% di una parola intera\n",
    "* ogni llm però ha la sua divisione in token\n",
    "\n",
    "## Autoregressione\n",
    "per generare un testo l'LLM genera il primo token della risposta e poi la appiccica alla domanda iniziale e la utilizza come input, continua così fino a che non finisce di generare il testo. Per questo motivo gli LLM non sono considerati intelligenti perchè non sono gudati da un ragionamento ma da quale parola va bene dopo quella già scelta.\n",
    "\n",
    "## Scalabilità\n",
    "Si punta ad avere il numero più grande di utenti possibile (idealmente infinito), stessa cosa per il numero massimo di utenti e token sugli LLM"
   ]
  },
  {
   "cell_type": "code",
   "execution_count": 25,
   "id": "b2dadfa2-a3f6-4139-9aea-a6874f1c6e08",
   "metadata": {},
   "outputs": [],
   "source": [
    "import random"
   ]
  },
  {
   "cell_type": "code",
   "execution_count": 26,
   "id": "fe3c31db-2646-48fe-83ea-6d718b525bc5",
   "metadata": {
    "scrolled": true
   },
   "outputs": [],
   "source": [
    "#caricamento file\n",
    "file = open(\"./sei_personaggi_in_cerca_dautore_Luigi_Pirandello.txt\", \"r\", encoding = \"UTF-8\")\n",
    "text = file.read()"
   ]
  },
  {
   "cell_type": "code",
   "execution_count": 27,
   "id": "5f386b3d-4261-4f64-ad5d-28c7f58922ed",
   "metadata": {},
   "outputs": [],
   "source": [
    "#preprocessing\n",
    "text = text.replace(\"\\n\", \" \").lower().replace(\"  \", \" \").replace(\"  \", \" \")"
   ]
  },
  {
   "cell_type": "code",
   "execution_count": 35,
   "id": "2c4943f7-2aa2-4437-bd9d-04867bce08b0",
   "metadata": {},
   "outputs": [],
   "source": [
    "#i nostri token sono un carattere\n",
    "l_context = 4\n",
    "markov_dict = {}\n",
    "for i, char in enumerate(text[:-l_context]):\n",
    "    ngram = text[i:i+l_context]\n",
    "    if ngram in markov_dict:\n",
    "        markov_dict[ngram].append(text[i+l_context])\n",
    "    else:\n",
    "        markov_dict[ngram] = [text[i+l_context]]"
   ]
  },
  {
   "cell_type": "markdown",
   "id": "323f6704-e9a8-4d12-b385-65163fba5a3d",
   "metadata": {},
   "source": [
    "Il dizionario `markov_dict` è un modello matematico del linguaggio naturale che ora usiamo per costruire un autoregressore Markoviano, autoregressione markoviana, processo di markov trovato durante un studio suo probabilistico"
   ]
  },
  {
   "cell_type": "code",
   "execution_count": 37,
   "id": "08b796a2-3d6c-4bdb-955e-5e186fcb8706",
   "metadata": {},
   "outputs": [
    {
     "data": {
      "text/plain": [
       "\"sei per la mano al diretto la gonfida pace. il direttori e rimo attore di filosofia, non aspetti. rivo e agganciata da cuoco! orribile è morto libertà; ma è desta dispresta! io non «spero... la mammante, la sua per vedevo su quell'attore). e portificata penso in casa, sempre per non può sapere personaggi realtà! e sorrisoluto). ma non ha dal sentazione! nel capocomico, sentimento... di scene, carne della col davanti, lo fecondalino, vede, creda cucenderà macchi sa come te basteria, scusi, signore. ma nessun attore, signori soffendetta una disfatti, per mai il tuo stattori siamo vero! la come! stanze, nella figliastrazio di qua si è lui indicherà in capocomico. al capocomico. già-- la salutandosi a porta! ecco, gli occhinista la miseriamenta. il capito? il maraver lui? gli attor giorna no, mi la madre. ma di mi pati e noi per recita della vederà in quello? --d'arte rimo attenzione così. veniva invece, perso del loro si se ne lana parola? direttore: ti per i figlio dei piutto dall'amore (qua\""
      ]
     },
     "execution_count": 37,
     "metadata": {},
     "output_type": "execute_result"
    }
   ],
   "source": [
    "ngram_0 = \"sei \"\n",
    "l_phrase = 1000\n",
    "phrase = ngram_0\n",
    "\n",
    "if len(ngram_0) != l_context:\n",
    "    print(\"errore\")\n",
    "else:\n",
    "    for _ in range(l_phrase):\n",
    "        if ngram_0 in markov_dict:\n",
    "            next_char = random.choice(markov_dict[ngram_0])\n",
    "            phrase = phrase + next_char\n",
    "            ngram_0 = phrase[-l_context:]\n",
    "        else:\n",
    "            break\n",
    "phrase"
   ]
  },
  {
   "cell_type": "code",
   "execution_count": null,
   "id": "512b1ae8-92eb-44fd-b0c2-f449844bf639",
   "metadata": {},
   "outputs": [],
   "source": []
  }
 ],
 "metadata": {
  "kernelspec": {
   "display_name": "Python [conda env:base] *",
   "language": "python",
   "name": "conda-base-py"
  },
  "language_info": {
   "codemirror_mode": {
    "name": "ipython",
    "version": 3
   },
   "file_extension": ".py",
   "mimetype": "text/x-python",
   "name": "python",
   "nbconvert_exporter": "python",
   "pygments_lexer": "ipython3",
   "version": "3.13.5"
  }
 },
 "nbformat": 4,
 "nbformat_minor": 5
}
